{
 "cells": [
  {
   "cell_type": "code",
   "execution_count": 2,
   "metadata": {},
   "outputs": [
    {
     "name": "stdout",
     "output_type": "stream",
     "text": [
      "The autoreload extension is already loaded. To reload it, use:\n",
      "  %reload_ext autoreload\n"
     ]
    }
   ],
   "source": [
    "%load_ext autoreload\n",
    "%autoreload 2\n",
    "%matplotlib inline"
   ]
  },
  {
   "cell_type": "code",
   "execution_count": 3,
   "metadata": {},
   "outputs": [],
   "source": [
    "import os\n",
    "import sys \n",
    "import configparser\n",
    "import pandas as pd \n",
    "import numpy as np\n",
    "\n",
    "from os.path import join as oj\n",
    "\n",
    "\n",
    "\n",
    "sys.path.insert(0, \"../src\")\n",
    "import severson_data\n",
    "import pandas as pd\n",
    "pd.set_option('display.float_format', lambda x: '%.2f' % x)\n",
    "font_small = 20\n",
    "font_xsmall = 15\n",
    "font_medium = 25\n",
    "font_large = 30"
   ]
  },
  {
   "cell_type": "code",
   "execution_count": 4,
   "metadata": {
    "scrolled": true
   },
   "outputs": [],
   "source": [
    "config = configparser.ConfigParser()\n",
    "config.read('../config.ini');\n",
    "result_path =config['PATHS']['result_path'] "
   ]
  },
  {
   "cell_type": "markdown",
   "metadata": {},
   "source": [
    "# load data"
   ]
  },
  {
   "cell_type": "code",
   "execution_count": 10,
   "metadata": {},
   "outputs": [],
   "source": [
    "if 'data_dict' not in locals(): # just takes a lot of time\n",
    "    data_path = config['DATASET']['severson_path'] \n",
    "    bat_dicts = severson_data.load_data_single(data_path)\n",
    "\n",
    "data_dict = {**bat_dicts[0],  **bat_dicts[2],} # first batch is not aged, third batch is aged for appox 1 year"
   ]
  },
  {
   "cell_type": "code",
   "execution_count": 11,
   "metadata": {},
   "outputs": [],
   "source": [
    "in_situ_dir = oj(os.path.split(data_path)[0], \"in-situ\")\n",
    "filename =[x for x in os.listdir(in_situ_dir) if \"csv\" in x][0]\n",
    "pd_csv = pd.read_csv(oj(in_situ_dir, filename),sep = ';', decimal=\",\")\n",
    "ref_val = np.asarray(pd_csv.Voltage).mean() "
   ]
  },
  {
   "cell_type": "code",
   "execution_count": 12,
   "metadata": {
    "scrolled": true
   },
   "outputs": [
    {
     "name": "stdout",
     "output_type": "stream",
     "text": [
      "69\n"
     ]
    }
   ],
   "source": [
    "x, y, coloumbic_eff, list_of_keys, charge_policy,x_discharge, overpot_charge, overpot_discharge =  severson_data.get_data(data_dict, ref_val,num_offset=0, )\n"
   ]
  },
  {
   "cell_type": "markdown",
   "metadata": {},
   "source": [
    "# bats\n"
   ]
  },
  {
   "cell_type": "code",
   "execution_count": 13,
   "metadata": {},
   "outputs": [],
   "source": [
    "voltage, capacity = severson_data.get_capacity_curve(data_dict['b3c7'], 500, is_discharge=True)\n",
    "my_df= pd.DataFrame(np.stack([voltage, capacity]).T,\n",
    "\n",
    "\n",
    "                           columns=['Voltage', 'Q', ])\n",
    "my_df.to_csv(oj(result_path,\"b3c7_discharge_curve.csv\"), index = False)"
   ]
  },
  {
   "cell_type": "code",
   "execution_count": 14,
   "metadata": {},
   "outputs": [
    {
     "data": {
      "text/plain": [
       "815.0"
      ]
     },
     "execution_count": 14,
     "metadata": {},
     "output_type": "execute_result"
    }
   ],
   "source": [
    "np.quantile(y, 1/3)"
   ]
  },
  {
   "cell_type": "code",
   "execution_count": 15,
   "metadata": {},
   "outputs": [
    {
     "data": {
      "text/plain": [
       "1010.6666666666666"
      ]
     },
     "execution_count": 15,
     "metadata": {},
     "output_type": "execute_result"
    }
   ],
   "source": [
    "np.quantile(y, 2/3)"
   ]
  },
  {
   "cell_type": "code",
   "execution_count": 16,
   "metadata": {},
   "outputs": [],
   "source": [
    "non_aged_cells= ['2017-05-12-b1c20','2017-05-12-b1c17','2017-05-12-b1c4' ] # from short to long lived\n",
    "aged_cells = ['2018-04-12-b3c28','2018-04-12-b3c0','2018-04-12-b3c7' ]"
   ]
  },
  {
   "cell_type": "code",
   "execution_count": 17,
   "metadata": {},
   "outputs": [],
   "source": [
    "non_aged_cells= ['b1c20','b1c17','b1c4' ] # from short to long lived\n",
    "aged_cells = ['b3c28','b3c0','b3c7' ]"
   ]
  },
  {
   "cell_type": "code",
   "execution_count": 20,
   "metadata": {},
   "outputs": [],
   "source": [
    "# cut_offs = [500,535,862,2237]\n",
    "# batch_cuts = [0,len(batch1),len(batch1) + len(batch3)]\n",
    "idxs = -np.ones((2,3)).astype(np.int32)\n",
    "# for j in range(2):\n",
    "#     for i in range(3): \n",
    "#         idxis = np.where((y[batch_cuts[j]:batch_cuts[j+1]] > cut_offs[i] ) *(y[batch_cuts[j]:batch_cuts[j+1]] <= cut_offs[i+1]))[0]\n",
    "#         if len(idxis) >0:\n",
    "           \n",
    "#             idxs[j,i] = idxis[0] + batch_cuts[j]\n",
    "# # make changes so that charging rates are roughly comparable\n",
    "\n",
    "idxs[0,0] = 16\n",
    "idxs[0,1] = 13\n",
    "idxs[0,2] = 4\n",
    "idxs[1,0] = 67 \n",
    "idxs[1,1] =41\n",
    "idxs[1,2] =47\n",
    "lifetimes = np.ones((2,3)).astype(np.int32)\n",
    "chargies = np.ones((2,3))\n",
    "for i in range(2):\n",
    "    for j in range(3):\n",
    "        lifetimes[i,j] = y[idxs[i,j]]\n",
    "        chargies[i,j] = charge_policy[idxs[i,j],1]"
   ]
  },
  {
   "cell_type": "code",
   "execution_count": 21,
   "metadata": {},
   "outputs": [],
   "source": [
    "lifetimes = [ \"0_short\", \"1_medium\", \"2_long\"]\n",
    "ageing = [\"0_no_ageing\",  \"2_ageing\"]\n",
    "for i in range(2):\n",
    "    for j in range(3):\n",
    "        \n",
    "        bat_indices = np.arange(y[idxs[i,j]])+1\n",
    "        overpot = overpot_discharge[idxs[i,j], :y[idxs[i,j]]]\n",
    "\n",
    "        my_df= pd.DataFrame(np.stack([bat_indices, overpot]).T,\n",
    "\n",
    "                           columns=['Cycle', 'Overpotential', ])\n",
    "        my_df.to_csv(oj(result_path,\"discharge_\"+str(lifetimes[j]) + \"_lifetime_\" + ageing[i] + '.csv'), index = False)"
   ]
  },
  {
   "cell_type": "code",
   "execution_count": 22,
   "metadata": {},
   "outputs": [],
   "source": [
    "lifetimes = [ \"0_short\", \"1_medium\", \"2_long\"]\n",
    "ageing = [\"0_no_ageing\",  \"2_ageing\"]\n",
    "for i in range(2):\n",
    "    for j in range(3):\n",
    "        \n",
    "        bat_indices = np.arange(y[idxs[i,j]])+1\n",
    "        overpot = overpot_charge[idxs[i,j], :y[idxs[i,j]]]\n",
    "        \n",
    "        my_df= pd.DataFrame(np.stack([bat_indices, overpot]).T,\n",
    "\n",
    "\n",
    "                           columns=['Cycle', 'Overpotential', ])\n",
    "        my_df.to_csv(oj(result_path,\"charge_\"+str(lifetimes[j]) + \"_lifetime_\" + ageing[i] + '.csv'), index = False)"
   ]
  },
  {
   "cell_type": "code",
   "execution_count": null,
   "metadata": {},
   "outputs": [],
   "source": []
  }
 ],
 "metadata": {
  "kernelspec": {
   "display_name": "Python (my_science)",
   "language": "python",
   "name": "my_science"
  },
  "language_info": {
   "codemirror_mode": {
    "name": "ipython",
    "version": 3
   },
   "file_extension": ".py",
   "mimetype": "text/x-python",
   "name": "python",
   "nbconvert_exporter": "python",
   "pygments_lexer": "ipython3",
   "version": "3.9.12"
  }
 },
 "nbformat": 4,
 "nbformat_minor": 4
}
